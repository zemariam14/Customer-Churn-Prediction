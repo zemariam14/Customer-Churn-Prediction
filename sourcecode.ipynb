{
  "cells": [
    {
      "cell_type": "code",
      "execution_count": null,
      "metadata": {
        "id": "5JGues6OBdIQ"
      },
      "outputs": [],
      "source": [
        "import pandas as pd\n",
        "import numpy as np\n",
        "import matplotlib.pyplot as plt\n",
        "import seaborn as sns\n",
        "from sklearn.model_selection import train_test_split\n",
        "from sklearn.preprocessing import StandardScaler\n",
        "from sklearn.preprocessing import LabelEncoder\n",
        "from sklearn.ensemble import RandomForestClassifier\n",
        "from sklearn.metrics import classification_report, confusion_matrix, accuracy_score\n"
      ]
    },
    {
      "cell_type": "code",
      "execution_count": null,
      "metadata": {},
      "outputs": [],
      "source": [
        "#Load Dataset\n",
        "df=pd.read_csv('/Users/zem/Documents/PyCharm/cpm/chm.csv')\n",
        "df.head()"
      ]
    },
    {
      "cell_type": "code",
      "execution_count": null,
      "metadata": {
        "id": "NMVIHjZk_nfr"
      },
      "outputs": [],
      "source": [
        "df.info() #Strucutre and nulls\n"
      ]
    },
    {
      "cell_type": "code",
      "execution_count": null,
      "metadata": {
        "id": "_CWzgcoNC4Ic"
      },
      "outputs": [],
      "source": [
        "df[df.duplicated()] #Check for duplicates"
      ]
    },
    {
      "cell_type": "code",
      "execution_count": null,
      "metadata": {
        "id": "aA7NKgWN_plv"
      },
      "outputs": [],
      "source": [
        "df = pd.read_csv(\"chm.csv\")\n",
        "#Encoding\n",
        "label_encoder = LabelEncoder()\n",
        "df['Gender']=label_encoder.fit_transform(df['Gender'])\n",
        "df = pd.get_dummies(df, columns=['Geography'], drop_first=True)\n"
      ]
    },
    {
      "cell_type": "code",
      "execution_count": null,
      "metadata": {
        "id": "R6uQt2TEODVo"
      },
      "outputs": [],
      "source": [
        "df.head()"
      ]
    },
    {
      "cell_type": "code",
      "execution_count": null,
      "metadata": {
        "id": "-OvEgZCsctod"
      },
      "outputs": [],
      "source": [
        "\n",
        "#Define feaure columns\n",
        "Features=['CreditScore', 'Gender', 'Age', 'Tenure', 'Balance', 'NumOfProducts', 'HasCrCard', 'IsActiveMember', 'EstimatedSalary', 'Exited', 'Geography_Germany', 'Geography_Spain']\n",
        "#Define features (X) and target(y)\n",
        "X=df[Features]\n",
        "y=df['Exited']\n",
        "#Split dataset into training and testing sets\n",
        "X_train, X_test, y_train, y_test=train_test_split(X, y, test_size=0.2, random_state=42)"
      ]
    },
    {
      "cell_type": "code",
      "execution_count": null,
      "metadata": {
        "colab": {
          "base_uri": "https://localhost:8080/"
        },
        "id": "r-8fje5DfmKB",
        "outputId": "59d39f67-d731-4fa2-d2f2-96259e1f9746"
      },
      "outputs": [],
      "source": [
        "#Train and Test Split and Scaling\n",
        "scaler=StandardScaler()\n",
        "X_train=scaler.fit_transform(X_train)\n",
        "X_test=scaler.transform(X_test)\n",
        "X_train[:5], X_test[:5]"
      ]
    },
    {
      "cell_type": "code",
      "execution_count": null,
      "metadata": {
        "colab": {
          "base_uri": "https://localhost:8080/",
          "height": 80
        },
        "id": "VOlljzK4iU7m",
        "outputId": "4ab29483-f5df-475b-e215-20a700d141d7"
      },
      "outputs": [],
      "source": [
        "#Random Forest Model\n",
        "model=RandomForestClassifier(n_estimators=100, random_state=42)\n",
        "model.fit(X_train, y_train)"
      ]
    },
    {
      "cell_type": "code",
      "execution_count": null,
      "metadata": {
        "id": "5lY55JKiihu0"
      },
      "outputs": [],
      "source": [
        "#Continued\n",
        "y_pred= model.predict(X_test)\n",
        "conf_matrix=confusion_matrix(y_test, y_pred)\n",
        "class_report=classification_report(y_test, y_pred)\n",
        "accuracy=accuracy_score(y_test, y_pred)"
      ]
    },
    {
      "cell_type": "code",
      "execution_count": null,
      "metadata": {
        "colab": {
          "base_uri": "https://localhost:8080/"
        },
        "id": "Ukak5oJXjDYO",
        "outputId": "7fc3f97b-87c7-4f2e-df9b-1e3f600983d7"
      },
      "outputs": [],
      "source": [
        "#Print the confusion matrix, classification report, and the accuracy of the model.\n",
        "print(conf_matrix,class_report,accuracy)"
      ]
    },
    {
      "cell_type": "code",
      "execution_count": null,
      "metadata": {
        "colab": {
          "base_uri": "https://localhost:8080/",
          "height": 522
        },
        "id": "dlY1E-4cj4QE",
        "outputId": "7ea9f25a-bf64-4b83-f920-c45e04738d6d"
      },
      "outputs": [],
      "source": [
        "#Feature Importance\n",
        "importances=model.feature_importances_\n",
        "indices=np.argsort(importances)[::-1]\n",
        "names=[Features[i] for i in indices]\n",
        "plt.figure(figsize=(10,6))\n",
        "plt.title=(\"Feature Importance\")\n",
        "plt.barh(range(X.shape[1]), importances[indices])\n",
        "plt.yticks(range(X.shape[1]), names)\n",
        "plt.show()\n",
        "\n",
        "\n"
      ]
    },
    {
      "cell_type": "code",
      "execution_count": null,
      "metadata": {
        "id": "K5fmgIga-qIw"
      },
      "outputs": [],
      "source": [
        "from sklearn.linear_model import LogisticRegression\n",
        "from sklearn.metrics import confusion_matrix, classification_report, accuracy_score\n",
        "\n",
        "# Build and train the Logistic Regression model\n",
        "log_reg = LogisticRegression(random_state=42)\n",
        "log_reg.fit(X_train, y_train)\n",
        "\n",
        "# Make predictions\n",
        "y_pred_log_reg = log_reg.predict(X_test)\n",
        "\n",
        "# Evaluate the model\n",
        "conf_matrix_log_reg = confusion_matrix(y_test, y_pred_log_reg)\n",
        "class_report_log_reg = classification_report(y_test, y_pred_log_reg)\n",
        "accuracy_log_reg = accuracy_score(y_test, y_pred_log_reg)\n",
        "#Print the confusion matrix, classification report, and accuracy of the LRM model\n",
        "print(conf_matrix_log_reg, class_report_log_reg, accuracy_log_reg)\n",
        "\n",
        "\n",
        "\n"
      ]
    },
    {
      "cell_type": "code",
      "execution_count": null,
      "metadata": {
        "id": "3pJaJMoeZso2"
      },
      "outputs": [],
      "source": [
        "from sklearn.svm import SVC\n",
        "from sklearn.metrics import confusion_matrix, classification_report, accuracy_score\n",
        "\n",
        "# Build and train the SVM model\n",
        "svm_model = SVC(kernel='linear', random_state=42)\n",
        "svm_model.fit(X_train, y_train)\n",
        "\n",
        "# Make predictions\n",
        "y_pred_svm = svm_model.predict(X_test)\n",
        "\n",
        "# Evaluate the model\n",
        "conf_matrix_svm = confusion_matrix(y_test, y_pred_svm)\n",
        "class_report_svm = classification_report(y_test, y_pred_svm)\n",
        "accuracy_svm = accuracy_score(y_test, y_pred_svm)\n",
        "\n",
        "\n",
        "#Print the confusion matrix, classificaiton report, and the accuracy of the SVM model\n",
        "print(conf_matrix_svm, class_report_svm,accuracy_svm)\n"
      ]
    },
    {
      "cell_type": "code",
      "execution_count": null,
      "metadata": {
        "colab": {
          "base_uri": "https://localhost:8080/"
        },
        "id": "GIsLpI7SaPz4",
        "outputId": "8d66b5cd-73e4-40ac-c247-33da5a55c159"
      },
      "outputs": [],
      "source": [
        "from sklearn.neighbors import KNeighborsClassifier\n",
        "from sklearn.metrics import confusion_matrix, classification_report, accuracy_score\n",
        "\n",
        "# Build and train the KNN model\n",
        "knn_model = KNeighborsClassifier(n_neighbors=5)\n",
        "knn_model.fit(X_train, y_train)\n",
        "\n",
        "# Make predictions\n",
        "y_pred_knn = knn_model.predict(X_test)\n",
        "\n",
        "# Evaluate the model\n",
        "conf_matrix_knn = confusion_matrix(y_test, y_pred_knn)\n",
        "class_report_knn = classification_report(y_test, y_pred_knn)\n",
        "accuracy_knn = accuracy_score(y_test, y_pred_knn)\n",
        "#Print the confusion matrix, classificaiton report, and the accuracy of the KNN model\n",
        "print(conf_matrix_knn, class_report_knn, accuracy_knn)\n",
        "\n",
        "\n"
      ]
    },
    {
      "cell_type": "code",
      "execution_count": null,
      "metadata": {
        "colab": {
          "base_uri": "https://localhost:8080/"
        },
        "id": "kvi2AXQqbnWJ",
        "outputId": "f076dd68-449e-4fad-90d0-aa9fc84ec225"
      },
      "outputs": [],
      "source": [
        "from sklearn.ensemble import GradientBoostingClassifier\n",
        "from sklearn.metrics import confusion_matrix, classification_report, accuracy_score\n",
        "\n",
        "# Build and train the Gradient Boosting model\n",
        "gbm_model = GradientBoostingClassifier(n_estimators=100, random_state=42)\n",
        "gbm_model.fit(X_train, y_train)\n",
        "\n",
        "# Make predictions\n",
        "y_pred_gbm = gbm_model.predict(X_test)\n",
        "\n",
        "# Evaluate the model\n",
        "conf_matrix_gbm = confusion_matrix(y_test, y_pred_gbm)\n",
        "class_report_gbm = classification_report(y_test, y_pred_gbm)\n",
        "accuracy_gbm = accuracy_score(y_test, y_pred_gbm)\n",
        "#Print the confusion matrix, classificaiton report, and the accuracy of the GBM model\n",
        "print(conf_matrix_gbm, class_report_gbm, accuracy_gbm)"
      ]
    },
    {
      "cell_type": "code",
      "execution_count": null,
      "metadata": {
        "id": "mKw9n35Abz7e"
      },
      "outputs": [],
      "source": [
        "df = pd.read_csv(\"chm.csv\")\n",
        "# Binary feature for Balance\n",
        "df['BalanceZero'] = (df['Balance'] == 0).astype(int)\n",
        "\n",
        "# Age groups\n",
        "df['AgeGroup'] = pd.cut(df['Age'],\n",
        "                        bins=[18, 25, 35, 45, 55, 65, 75, 85, 95],\n",
        "                        labels=['18-25', '26-35', '36-45', '46-55', '56-65', '66-75', '76-85', '86-95'])\n",
        "\n",
        "# Balance to Salary Ratio\n",
        "df['BalanceToSalaryRatio'] = df['Balance'] / df['EstimatedSalary']\n",
        "\n",
        "# Interaction feature between NumOfProducts and IsActiveMember\n",
        "df['ProductUsage'] = df['NumOfProducts'] * df['IsActiveMember']\n",
        "\n",
        "# Tenure grouping\n",
        "df['TenureGroup'] = pd.cut(df['Tenure'],\n",
        "                           bins=[0, 2, 3, 5, 7, 10],\n",
        "                           labels=['0-2', '3-5', '6-7', '8-10', '10+'])\n"
      ]
    },
    {
      "cell_type": "code",
      "execution_count": null,
      "metadata": {
        "id": "OlNEZEM8cm15"
      },
      "outputs": [],
      "source": [
        "# Encode Gender\n",
        "label_encoder = LabelEncoder()\n",
        "df['Gender'] = label_encoder.fit_transform(df['Gender'])\n",
        "\n",
        "# One-hot encode Geography\n",
        "df = pd.get_dummies(df, columns=['Geography'], drop_first=True)\n",
        "\n",
        "# Create Male_Germany and Male_Spain interaction features\n",
        "df['Male_Germany'] = df['Gender'] * df['Geography_Germany']\n",
        "df['Male_Spain'] = df['Gender'] * df['Geography_Spain']\n"
      ]
    },
    {
      "cell_type": "code",
      "execution_count": null,
      "metadata": {
        "id": "u68O-U8jc_kg"
      },
      "outputs": [],
      "source": [
        "df = pd.get_dummies(df, columns=['AgeGroup', 'TenureGroup'], drop_first=True)\n"
      ]
    },
    {
      "cell_type": "code",
      "execution_count": null,
      "metadata": {
        "id": "r5D_tNqXdEJx"
      },
      "outputs": [],
      "source": [
        "# Manually listed features plus all dummy variables starting with AgeGroup_ or TenureGroup_\n",
        "features = [\n",
        "    'CreditScore', 'Age', 'Tenure', 'Balance', 'NumOfProducts',\n",
        "    'HasCrCard', 'IsActiveMember', 'EstimatedSalary',\n",
        "    'Geography_Germany', 'Geography_Spain',\n",
        "    'BalanceZero', 'BalanceToSalaryRatio', 'ProductUsage',\n",
        "    'Male_Germany', 'Male_Spain'\n",
        "] + [col for col in df.columns if col.startswith('AgeGroup_') or col.startswith('TenureGroup_')]\n",
        "\n",
        "X = df[features]\n",
        "y = df['Exited']\n"
      ]
    },
    {
      "cell_type": "code",
      "execution_count": null,
      "metadata": {
        "id": "jXJ7Ym-9dFrt"
      },
      "outputs": [],
      "source": [
        "from sklearn.model_selection import train_test_split\n",
        "# Split the dataset into training and testing sets\n",
        "X_train, X_test, y_train, y_test = train_test_split(\n",
        "    X, y, test_size=0.2, random_state=42\n",
        ")\n"
      ]
    },
    {
      "cell_type": "code",
      "execution_count": null,
      "metadata": {
        "id": "KX6KSwbEdHxf"
      },
      "outputs": [],
      "source": [
        "from sklearn.preprocessing import StandardScaler\n",
        "scaler = StandardScaler()\n",
        "#Fit the scaler on the training data and transform it\n",
        "X_train = scaler.fit_transform(X_train)\n",
        "#Same for the test data\n",
        "X_test = scaler.transform(X_test)\n"
      ]
    },
    {
      "cell_type": "code",
      "execution_count": null,
      "metadata": {
        "id": "d6OUIU5wdJ4T"
      },
      "outputs": [],
      "source": [
        "from sklearn.ensemble import RandomForestClassifier\n",
        "from sklearn.metrics import confusion_matrix, classification_report, accuracy_score\n",
        "\n",
        "model = RandomForestClassifier(n_estimators=100, random_state=42)\n",
        "#Train the model on the scaled training data\n",
        "model.fit(X_train, y_train)\n",
        "#Make the predictions on the test set\n",
        "y_pred = model.predict(X_test)\n"
      ]
    },
    {
      "cell_type": "code",
      "execution_count": null,
      "metadata": {
        "id": "bRKGe2AHdbl5"
      },
      "outputs": [],
      "source": [
        "# Create the confusion matrix to analyze prediction results\n",
        "conf_matrix = confusion_matrix(y_test, y_pred)\n",
        "#Generate a detailed classification report\n",
        "class_report = classification_report(y_test, y_pred)\n",
        "# Calculate overall model accuracy\n",
        "accuracy= accuracy_score(y_test, y_pred)"
      ]
    },
    {
      "cell_type": "code",
      "execution_count": null,
      "metadata": {
        "id": "OdPCX5vidM-G"
      },
      "outputs": [],
      "source": [
        "#Print the confusion matrix, classification report, and the overall accuracy of the model.\n",
        "print(conf_matrix, class_report,accuracy)\n",
        "\n"
      ]
    }
  ],
  "metadata": {
    "colab": {
      "provenance": []
    },
    "kernelspec": {
      "display_name": "Python 3",
      "name": "python3"
    },
    "language_info": {
      "codemirror_mode": {
        "name": "ipython",
        "version": 3
      },
      "file_extension": ".py",
      "mimetype": "text/x-python",
      "name": "python",
      "nbconvert_exporter": "python",
      "pygments_lexer": "ipython3",
      "version": "3.9.6"
    }
  },
  "nbformat": 4,
  "nbformat_minor": 0
}
